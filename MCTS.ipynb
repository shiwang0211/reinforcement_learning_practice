{
 "cells": [
  {
   "cell_type": "markdown",
   "metadata": {},
   "source": [
    "## Import packages"
   ]
  },
  {
   "cell_type": "code",
   "execution_count": 20,
   "metadata": {},
   "outputs": [],
   "source": [
    "import numpy as np\n",
    "from games.tictactoe import *\n",
    "from games.common import TwoPlayersGameState"
   ]
  },
  {
   "cell_type": "markdown",
   "metadata": {},
   "source": [
    "## Explore API of the game"
   ]
  },
  {
   "cell_type": "code",
   "execution_count": 21,
   "metadata": {},
   "outputs": [
    {
     "data": {
      "text/plain": [
       "<games.tictactoe.TicTacToeGameState at 0x111022ba8>"
      ]
     },
     "execution_count": 21,
     "metadata": {},
     "output_type": "execute_result"
    }
   ],
   "source": [
    "state = np.zeros((3,3))\n",
    "initial_board_state = TicTacToeGameState(state = state, next_to_move = 1)\n",
    "initial_board_state"
   ]
  },
  {
   "cell_type": "code",
   "execution_count": 22,
   "metadata": {},
   "outputs": [
    {
     "data": {
      "text/plain": [
       "[x:0 y:0 v:1,\n",
       " x:0 y:1 v:1,\n",
       " x:0 y:2 v:1,\n",
       " x:1 y:0 v:1,\n",
       " x:1 y:1 v:1,\n",
       " x:1 y:2 v:1,\n",
       " x:2 y:0 v:1,\n",
       " x:2 y:1 v:1,\n",
       " x:2 y:2 v:1]"
      ]
     },
     "execution_count": 22,
     "metadata": {},
     "output_type": "execute_result"
    }
   ],
   "source": [
    "# return possible move\n",
    "possible_actions = initial_board_state.get_legal_actions()\n",
    "possible_actions"
   ]
  },
  {
   "cell_type": "code",
   "execution_count": 23,
   "metadata": {},
   "outputs": [
    {
     "data": {
      "text/plain": [
       "<games.tictactoe.TicTacToeGameState at 0x111022c88>"
      ]
     },
     "execution_count": 23,
     "metadata": {},
     "output_type": "execute_result"
    }
   ],
   "source": [
    "# take a move\n",
    "current_state = initial_board_state.move(possible_actions[0])\n",
    "current_state"
   ]
  },
  {
   "cell_type": "code",
   "execution_count": 24,
   "metadata": {},
   "outputs": [
    {
     "data": {
      "text/plain": [
       "-1"
      ]
     },
     "execution_count": 24,
     "metadata": {},
     "output_type": "execute_result"
    }
   ],
   "source": [
    "current_state.next_to_move"
   ]
  },
  {
   "cell_type": "code",
   "execution_count": 25,
   "metadata": {},
   "outputs": [
    {
     "data": {
      "text/plain": [
       "[x:0 y:1 v:-1,\n",
       " x:0 y:2 v:-1,\n",
       " x:1 y:0 v:-1,\n",
       " x:1 y:1 v:-1,\n",
       " x:1 y:2 v:-1,\n",
       " x:2 y:0 v:-1,\n",
       " x:2 y:1 v:-1,\n",
       " x:2 y:2 v:-1]"
      ]
     },
     "execution_count": 25,
     "metadata": {},
     "output_type": "execute_result"
    }
   ],
   "source": [
    "current_state.get_legal_actions()"
   ]
  },
  {
   "cell_type": "code",
   "execution_count": 26,
   "metadata": {},
   "outputs": [
    {
     "name": "stdout",
     "output_type": "stream",
     "text": [
      "False\n"
     ]
    }
   ],
   "source": [
    "print(current_state.is_game_over())\n",
    "result = current_state.game_result"
   ]
  },
  {
   "cell_type": "code",
   "execution_count": 27,
   "metadata": {},
   "outputs": [
    {
     "name": "stdout",
     "output_type": "stream",
     "text": [
      "-1.0\n"
     ]
    }
   ],
   "source": [
    "while(True):\n",
    "    current_state = current_state.move(current_state.get_legal_actions()[-1])\n",
    "    if current_state.is_game_over():\n",
    "        print(current_state.game_result)\n",
    "        break"
   ]
  },
  {
   "cell_type": "markdown",
   "metadata": {},
   "source": [
    "# Start with defining a node"
   ]
  },
  {
   "cell_type": "code",
   "execution_count": 46,
   "metadata": {},
   "outputs": [],
   "source": [
    "class Node:\n",
    "    \n",
    "    def __init__(self, state: TwoPlayersGameState, parent = None):\n",
    "        self.state = state\n",
    "        self.parent = parent\n",
    "        \n",
    "        self.children = []\n",
    "        self.actions = self.state.get_legal_actions()\n",
    "        \n",
    "        self.num_visit = 0 # number of visits\n",
    "        self.results = {1: 0, -1: 0, 0: 0} # for each side\n",
    "        \n",
    "    # 1. Define three properties: Actions, Q and N\n",
    "    @property\n",
    "    def Q(self):\n",
    "        # decide which side of player;\n",
    "        this_side = self.parent.state.next_to_move\n",
    "        other_side = this_side * -1\n",
    "        # calculate Q\n",
    "        wins = self.results[this_side]\n",
    "        loses = self.results[other_side]\n",
    "        # return sum\n",
    "        return wins - loses\n",
    "\n",
    "    # 2. Define checks\n",
    "    def is_terminal_node(self):\n",
    "        return self.state.is_game_over()\n",
    "\n",
    "    def is_fully_expanded(self):\n",
    "        return len(self.actions) == 0\n",
    "\n",
    "    # 3. Define Action 1 - Roll Out\n",
    "    def rollout(self):    \n",
    "        # run simulation until game over, if not terminal\n",
    "        state_now = self.state\n",
    "        while not state_now.is_game_over():\n",
    "            possible_actions = state_now.get_legal_actions()\n",
    "            random_index = np.random.randint(len(possible_actions))\n",
    "            random_action = possible_actions[random_index]\n",
    "            state_now = state_now.move(random_action)\n",
    "\n",
    "        return int(state_now.game_result)\n",
    "\n",
    "    # 4. Define Action - 2: Backpropagation\n",
    "    def backpropagate(self, who_wins):\n",
    "        self.num_visit += 1\n",
    "        self.results[who_wins] += 1\n",
    "        if self.parent:\n",
    "            self.parent.backpropagate(who_wins)\n",
    "\n",
    "    # 5. Define how to expand a node by taking unused actions\n",
    "    def expand(self):\n",
    "        # 5.1 Add new Child\n",
    "        new_action = self.actions.pop() # no need to have property setter\n",
    "        child_state = self.state.move(new_action)\n",
    "        child_node = Node(child_state, parent = self)\n",
    "        self.children.append(child_node)\n",
    "\n",
    "        # 5.2 Roll out this Child node and backpropagate result\n",
    "        who_wins = child_node.rollout()\n",
    "        child_node.backpropagate(who_wins)\n",
    "\n",
    "    # 6. Define how to select best child for an expanded node\n",
    "    def get_best_child(self, c_param):\n",
    "        best_weight = -100\n",
    "        for child in self.children:\n",
    "            weight = child.Q / child.num_visit + \\\n",
    "                     c_param * np.sqrt((2 * np.log(self.num_visit) / (child.num_visit)))\n",
    "            if weight > best_weight:\n",
    "                best_child = child\n",
    "        return best_child"
   ]
  },
  {
   "cell_type": "markdown",
   "metadata": {},
   "source": [
    "# Then define how to find the next node"
   ]
  },
  {
   "cell_type": "markdown",
   "metadata": {},
   "source": [
    "![image](https://int8.io/wp-content/uploads/2018/03/uct.png)"
   ]
  },
  {
   "cell_type": "code",
   "execution_count": 57,
   "metadata": {},
   "outputs": [
    {
     "name": "stdout",
     "output_type": "stream",
     "text": [
      "Expanding a Node\n",
      "Expanding a Node\n",
      "Expanding a Node\n",
      "Expanding a Node\n",
      "Expanding a Node\n",
      "Expanding a Node\n",
      "Expanding a Node\n",
      "Expanding a Node\n",
      "Expanding a Node\n",
      "Finishing expanding, finding best child\n",
      "Expanding a Node\n",
      "Expanding a Node\n",
      "Expanding a Node\n",
      "Expanding a Node\n",
      "Expanding a Node\n",
      "Expanding a Node\n",
      "Expanding a Node\n",
      "Expanding a Node\n",
      "Finishing expanding, finding best child\n",
      "Expanding a Node\n",
      "Expanding a Node\n",
      "Expanding a Node\n",
      "Expanding a Node\n",
      "Expanding a Node\n",
      "Expanding a Node\n",
      "Expanding a Node\n",
      "Finishing expanding, finding best child\n",
      "Expanding a Node\n",
      "Expanding a Node\n",
      "Expanding a Node\n",
      "Expanding a Node\n",
      "Expanding a Node\n",
      "Expanding a Node\n",
      "Finishing expanding, finding best child\n",
      "Expanding a Node\n",
      "Expanding a Node\n",
      "Expanding a Node\n",
      "Expanding a Node\n",
      "Expanding a Node\n",
      "Finishing expanding, finding best child\n",
      "Expanding a Node\n",
      "Expanding a Node\n",
      "Expanding a Node\n",
      "Expanding a Node\n",
      "Finishing expanding, finding best child\n",
      "Expanding a Node\n",
      "Expanding a Node\n",
      "Expanding a Node\n",
      "Finishing expanding, finding best child\n"
     ]
    }
   ],
   "source": [
    "# Start Game\n",
    "root = Node(initial_board_state)\n",
    "current_node = root\n",
    "while not current_node.is_terminal_node():\n",
    "    if not current_node.is_fully_expanded():\n",
    "        print('Expanding a Node')\n",
    "        current_node.expand()\n",
    "    else:\n",
    "        print('Finishing expanding, finding best child')\n",
    "        current_node = current_node.get_best_child(c_param = 0)\n",
    "        \n",
    "best_next_state = root.get_best_child(c_param = 0.5)"
   ]
  },
  {
   "cell_type": "markdown",
   "metadata": {},
   "source": [
    "# Reference"
   ]
  },
  {
   "cell_type": "markdown",
   "metadata": {
    "collapsed": true
   },
   "source": [
    "https://int8.io/monte-carlo-tree-search-beginners-guide/#Monte_Carlo_Tree_Search_8211_basic_concepts"
   ]
  },
  {
   "cell_type": "code",
   "execution_count": null,
   "metadata": {},
   "outputs": [],
   "source": []
  }
 ],
 "metadata": {
  "kernelspec": {
   "display_name": "Python [default]",
   "language": "python",
   "name": "python3"
  },
  "language_info": {
   "codemirror_mode": {
    "name": "ipython",
    "version": 3
   },
   "file_extension": ".py",
   "mimetype": "text/x-python",
   "name": "python",
   "nbconvert_exporter": "python",
   "pygments_lexer": "ipython3",
   "version": "3.6.3"
  },
  "toc": {
   "base_numbering": 1,
   "nav_menu": {},
   "number_sections": true,
   "sideBar": true,
   "skip_h1_title": false,
   "title_cell": "Table of Contents",
   "title_sidebar": "Contents",
   "toc_cell": false,
   "toc_position": {},
   "toc_section_display": true,
   "toc_window_display": false
  },
  "varInspector": {
   "cols": {
    "lenName": 16,
    "lenType": 16,
    "lenVar": 40
   },
   "kernels_config": {
    "python": {
     "delete_cmd_postfix": "",
     "delete_cmd_prefix": "del ",
     "library": "var_list.py",
     "varRefreshCmd": "print(var_dic_list())"
    },
    "r": {
     "delete_cmd_postfix": ") ",
     "delete_cmd_prefix": "rm(",
     "library": "var_list.r",
     "varRefreshCmd": "cat(var_dic_list()) "
    }
   },
   "types_to_exclude": [
    "module",
    "function",
    "builtin_function_or_method",
    "instance",
    "_Feature"
   ],
   "window_display": false
  }
 },
 "nbformat": 4,
 "nbformat_minor": 2
}
